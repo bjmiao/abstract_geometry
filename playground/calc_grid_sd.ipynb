{
 "cells": [
  {
   "cell_type": "code",
   "execution_count": 5,
   "metadata": {},
   "outputs": [
    {
     "name": "stdout",
     "output_type": "stream",
     "text": [
      "2 6\n",
      "#sampling dichotomy: 10 10\n",
      "2 6\n",
      "#sampling dichotomy: 10 10\n",
      "2 6\n",
      "#sampling dichotomy: 10 10\n",
      "2 6\n",
      "#sampling dichotomy: 10 10\n",
      "2 6\n",
      "#sampling dichotomy: 10 10\n",
      "2 6\n",
      "#sampling dichotomy: 10 10\n",
      "2 6\n",
      "#sampling dichotomy: 10 10\n",
      "2 6\n",
      "#sampling dichotomy: 10 10\n"
     ]
    },
    {
     "ename": "KeyboardInterrupt",
     "evalue": "",
     "output_type": "error",
     "traceback": [
      "\u001b[1;31m---------------------------------------------------------------------------\u001b[0m",
      "\u001b[1;31mKeyboardInterrupt\u001b[0m                         Traceback (most recent call last)",
      "\u001b[1;32mc:\\Users\\bjmiao\\Documents\\Workspace\\bennalab_rotation_20231106\\geometry_abstraction\\playground\\calc_grid_sd.ipynb Cell 1\u001b[0m line \u001b[0;36m2\n\u001b[0;32m     <a href='vscode-notebook-cell:/c%3A/Users/bjmiao/Documents/Workspace/bennalab_rotation_20231106/geometry_abstraction/playground/calc_grid_sd.ipynb#W0sZmlsZQ%3D%3D?line=16'>17</a>\u001b[0m \u001b[39mfor\u001b[39;00m noise_coef \u001b[39min\u001b[39;00m [\u001b[39m0\u001b[39m, \u001b[39m0.2\u001b[39m, \u001b[39m1\u001b[39m]:\n\u001b[0;32m     <a href='vscode-notebook-cell:/c%3A/Users/bjmiao/Documents/Workspace/bennalab_rotation_20231106/geometry_abstraction/playground/calc_grid_sd.ipynb#W0sZmlsZQ%3D%3D?line=17'>18</a>\u001b[0m     grid \u001b[39m=\u001b[39m generate_grid_in_embedding_space(grid_size,\n\u001b[0;32m     <a href='vscode-notebook-cell:/c%3A/Users/bjmiao/Documents/Workspace/bennalab_rotation_20231106/geometry_abstraction/playground/calc_grid_sd.ipynb#W0sZmlsZQ%3D%3D?line=18'>19</a>\u001b[0m                 embedding_space_dimension\u001b[39m=\u001b[39membedding_dimension,\n\u001b[0;32m     <a href='vscode-notebook-cell:/c%3A/Users/bjmiao/Documents/Workspace/bennalab_rotation_20231106/geometry_abstraction/playground/calc_grid_sd.ipynb#W0sZmlsZQ%3D%3D?line=19'>20</a>\u001b[0m                 distortion_magnitude\u001b[39m=\u001b[39mdistortion\n\u001b[0;32m     <a href='vscode-notebook-cell:/c%3A/Users/bjmiao/Documents/Workspace/bennalab_rotation_20231106/geometry_abstraction/playground/calc_grid_sd.ipynb#W0sZmlsZQ%3D%3D?line=20'>21</a>\u001b[0m     )\n\u001b[1;32m---> <a href='vscode-notebook-cell:/c%3A/Users/bjmiao/Documents/Workspace/bennalab_rotation_20231106/geometry_abstraction/playground/calc_grid_sd.ipynb#W0sZmlsZQ%3D%3D?line=21'>22</a>\u001b[0m     sd \u001b[39m=\u001b[39m shattering_dimensionality(grid, nsamples\u001b[39m=\u001b[39;49m\u001b[39m2000\u001b[39;49m, noise_coef\u001b[39m=\u001b[39;49mnoise_coef, sample_dichotomy\u001b[39m=\u001b[39;49m\u001b[39m50\u001b[39;49m)\n\u001b[0;32m     <a href='vscode-notebook-cell:/c%3A/Users/bjmiao/Documents/Workspace/bennalab_rotation_20231106/geometry_abstraction/playground/calc_grid_sd.ipynb#W0sZmlsZQ%3D%3D?line=22'>23</a>\u001b[0m     logging\u001b[39m.\u001b[39minfo(\u001b[39mf\u001b[39m\u001b[39m\"\u001b[39m\u001b[39msd,\u001b[39m\u001b[39m{\u001b[39;00mgrid_size_str\u001b[39m}\u001b[39;00m\u001b[39m,\u001b[39m\u001b[39m{\u001b[39;00mdistortion\u001b[39m}\u001b[39;00m\u001b[39m,\u001b[39m\u001b[39m{\u001b[39;00membedding_dimension\u001b[39m}\u001b[39;00m\u001b[39m,\u001b[39m\u001b[39m{\u001b[39;00mnoise_coef\u001b[39m}\u001b[39;00m\u001b[39m,\u001b[39m\u001b[39m{\u001b[39;00msd\u001b[39m}\u001b[39;00m\u001b[39m\"\u001b[39m)\n",
      "File \u001b[1;32mc:\\Users\\bjmiao\\Documents\\Workspace\\bennalab_rotation_20231106\\geometry_abstraction\\playground\\..\\geometry_metrics.py:162\u001b[0m, in \u001b[0;36mshattering_dimensionality\u001b[1;34m(points, nsamples, noise_coef, sample_dichotomy, verbose)\u001b[0m\n\u001b[0;32m    159\u001b[0m X_test \u001b[39m=\u001b[39m np\u001b[39m.\u001b[39mconcatenate([pcloud3, pcloud4], axis \u001b[39m=\u001b[39m \u001b[39m0\u001b[39m)\n\u001b[0;32m    160\u001b[0m y_test \u001b[39m=\u001b[39m np\u001b[39m.\u001b[39marray([\u001b[39m0\u001b[39m] \u001b[39m*\u001b[39m \u001b[39mlen\u001b[39m(pcloud3) \u001b[39m+\u001b[39m [\u001b[39m1\u001b[39m] \u001b[39m*\u001b[39m \u001b[39mlen\u001b[39m(pcloud4))\n\u001b[1;32m--> 162\u001b[0m svc\u001b[39m.\u001b[39;49mfit(X_train, y_train)\n\u001b[0;32m    163\u001b[0m score \u001b[39m=\u001b[39m svc\u001b[39m.\u001b[39mscore(X_test, y_test)\n\u001b[0;32m    164\u001b[0m decoding_scores\u001b[39m.\u001b[39mappend(score)\n",
      "File \u001b[1;32md:\\miniconda3\\envs\\py39-base\\lib\\site-packages\\sklearn\\base.py:1152\u001b[0m, in \u001b[0;36m_fit_context.<locals>.decorator.<locals>.wrapper\u001b[1;34m(estimator, *args, **kwargs)\u001b[0m\n\u001b[0;32m   1145\u001b[0m     estimator\u001b[39m.\u001b[39m_validate_params()\n\u001b[0;32m   1147\u001b[0m \u001b[39mwith\u001b[39;00m config_context(\n\u001b[0;32m   1148\u001b[0m     skip_parameter_validation\u001b[39m=\u001b[39m(\n\u001b[0;32m   1149\u001b[0m         prefer_skip_nested_validation \u001b[39mor\u001b[39;00m global_skip_validation\n\u001b[0;32m   1150\u001b[0m     )\n\u001b[0;32m   1151\u001b[0m ):\n\u001b[1;32m-> 1152\u001b[0m     \u001b[39mreturn\u001b[39;00m fit_method(estimator, \u001b[39m*\u001b[39margs, \u001b[39m*\u001b[39m\u001b[39m*\u001b[39mkwargs)\n",
      "File \u001b[1;32md:\\miniconda3\\envs\\py39-base\\lib\\site-packages\\sklearn\\linear_model\\_ridge.py:1435\u001b[0m, in \u001b[0;36mRidgeClassifier.fit\u001b[1;34m(self, X, y, sample_weight)\u001b[0m\n\u001b[0;32m   1411\u001b[0m \u001b[39m\u001b[39m\u001b[39m\"\"\"Fit Ridge classifier model.\u001b[39;00m\n\u001b[0;32m   1412\u001b[0m \n\u001b[0;32m   1413\u001b[0m \u001b[39mParameters\u001b[39;00m\n\u001b[1;32m   (...)\u001b[0m\n\u001b[0;32m   1431\u001b[0m \u001b[39m    Instance of the estimator.\u001b[39;00m\n\u001b[0;32m   1432\u001b[0m \u001b[39m\"\"\"\u001b[39;00m\n\u001b[0;32m   1433\u001b[0m X, y, sample_weight, Y \u001b[39m=\u001b[39m \u001b[39mself\u001b[39m\u001b[39m.\u001b[39m_prepare_data(X, y, sample_weight, \u001b[39mself\u001b[39m\u001b[39m.\u001b[39msolver)\n\u001b[1;32m-> 1435\u001b[0m \u001b[39msuper\u001b[39;49m()\u001b[39m.\u001b[39;49mfit(X, Y, sample_weight\u001b[39m=\u001b[39;49msample_weight)\n\u001b[0;32m   1436\u001b[0m \u001b[39mreturn\u001b[39;00m \u001b[39mself\u001b[39m\n",
      "File \u001b[1;32md:\\miniconda3\\envs\\py39-base\\lib\\site-packages\\sklearn\\linear_model\\_ridge.py:849\u001b[0m, in \u001b[0;36m_BaseRidge.fit\u001b[1;34m(self, X, y, sample_weight)\u001b[0m\n\u001b[0;32m    846\u001b[0m     sample_weight \u001b[39m=\u001b[39m _check_sample_weight(sample_weight, X, dtype\u001b[39m=\u001b[39mX\u001b[39m.\u001b[39mdtype)\n\u001b[0;32m    848\u001b[0m \u001b[39m# when X is sparse we only remove offset from y\u001b[39;00m\n\u001b[1;32m--> 849\u001b[0m X, y, X_offset, y_offset, X_scale \u001b[39m=\u001b[39m _preprocess_data(\n\u001b[0;32m    850\u001b[0m     X,\n\u001b[0;32m    851\u001b[0m     y,\n\u001b[0;32m    852\u001b[0m     \u001b[39mself\u001b[39;49m\u001b[39m.\u001b[39;49mfit_intercept,\n\u001b[0;32m    853\u001b[0m     copy\u001b[39m=\u001b[39;49m\u001b[39mself\u001b[39;49m\u001b[39m.\u001b[39;49mcopy_X,\n\u001b[0;32m    854\u001b[0m     sample_weight\u001b[39m=\u001b[39;49msample_weight,\n\u001b[0;32m    855\u001b[0m )\n\u001b[0;32m    857\u001b[0m \u001b[39mif\u001b[39;00m solver \u001b[39m==\u001b[39m \u001b[39m\"\u001b[39m\u001b[39msag\u001b[39m\u001b[39m\"\u001b[39m \u001b[39mand\u001b[39;00m sparse\u001b[39m.\u001b[39missparse(X) \u001b[39mand\u001b[39;00m \u001b[39mself\u001b[39m\u001b[39m.\u001b[39mfit_intercept:\n\u001b[0;32m    858\u001b[0m     \u001b[39mself\u001b[39m\u001b[39m.\u001b[39mcoef_, \u001b[39mself\u001b[39m\u001b[39m.\u001b[39mn_iter_, \u001b[39mself\u001b[39m\u001b[39m.\u001b[39mintercept_ \u001b[39m=\u001b[39m _ridge_regression(\n\u001b[0;32m    859\u001b[0m         X,\n\u001b[0;32m    860\u001b[0m         y,\n\u001b[1;32m   (...)\u001b[0m\n\u001b[0;32m    870\u001b[0m         check_input\u001b[39m=\u001b[39m\u001b[39mFalse\u001b[39;00m,\n\u001b[0;32m    871\u001b[0m     )\n",
      "File \u001b[1;32md:\\miniconda3\\envs\\py39-base\\lib\\site-packages\\sklearn\\linear_model\\_base.py:264\u001b[0m, in \u001b[0;36m_preprocess_data\u001b[1;34m(X, y, fit_intercept, normalize, copy, copy_y, sample_weight, check_input)\u001b[0m\n\u001b[0;32m    261\u001b[0m         X_offset \u001b[39m=\u001b[39m np\u001b[39m.\u001b[39maverage(X, axis\u001b[39m=\u001b[39m\u001b[39m0\u001b[39m, weights\u001b[39m=\u001b[39msample_weight)\n\u001b[0;32m    263\u001b[0m     X_offset \u001b[39m=\u001b[39m X_offset\u001b[39m.\u001b[39mastype(X\u001b[39m.\u001b[39mdtype, copy\u001b[39m=\u001b[39m\u001b[39mFalse\u001b[39;00m)\n\u001b[1;32m--> 264\u001b[0m     X \u001b[39m-\u001b[39m\u001b[39m=\u001b[39m X_offset\n\u001b[0;32m    266\u001b[0m \u001b[39mif\u001b[39;00m normalize:\n\u001b[0;32m    267\u001b[0m     X_var \u001b[39m=\u001b[39m X_var\u001b[39m.\u001b[39mastype(X\u001b[39m.\u001b[39mdtype, copy\u001b[39m=\u001b[39m\u001b[39mFalse\u001b[39;00m)\n",
      "\u001b[1;31mKeyboardInterrupt\u001b[0m: "
     ]
    }
   ],
   "source": [
    "import sys\n",
    "sys.path.append('..')\n",
    "from geometry_metrics import generate_grid_in_embedding_space, shattering_dimensionality\n",
    "import numpy as np\n",
    "\n",
    "import logging\n",
    "\n",
    "# Configure the logging settings\n",
    "logging.basicConfig(filename='grid_sd_1215_2000sample.log', level=logging.DEBUG,\n",
    "                    format='%(asctime)s - %(levelname)s - %(message)s')\n",
    "\n",
    "# for grid_size in ( (2, 2), (2, 3), (3, 3), (2, 2, 2), (2, 3, 4)):\n",
    "for grid_size in ( (2,3), (3, 3), ):\n",
    "    grid_size_str = \"_\".join([str(x) for x in grid_size])\n",
    "    for distortion in np.arange(0, 5, 1.5):\n",
    "        for embedding_dimension in range(50, 351, 100):\n",
    "            for noise_coef in [0, 0.2, 1]:\n",
    "                grid = generate_grid_in_embedding_space(grid_size,\n",
    "                            embedding_space_dimension=embedding_dimension,\n",
    "                            distortion_magnitude=distortion\n",
    "                )\n",
    "                sd = shattering_dimensionality(grid, nsamples=2000, noise_coef=noise_coef, sample_dichotomy=50)\n",
    "                logging.info(f\"sd,{grid_size_str},{distortion},{embedding_dimension},{noise_coef},{sd}\")\n"
   ]
  },
  {
   "cell_type": "code",
   "execution_count": null,
   "metadata": {},
   "outputs": [],
   "source": []
  }
 ],
 "metadata": {
  "kernelspec": {
   "display_name": "Python 3",
   "language": "python",
   "name": "python3"
  },
  "language_info": {
   "codemirror_mode": {
    "name": "ipython",
    "version": 3
   },
   "file_extension": ".py",
   "mimetype": "text/x-python",
   "name": "python",
   "nbconvert_exporter": "python",
   "pygments_lexer": "ipython3",
   "version": "3.9.18"
  }
 },
 "nbformat": 4,
 "nbformat_minor": 2
}
